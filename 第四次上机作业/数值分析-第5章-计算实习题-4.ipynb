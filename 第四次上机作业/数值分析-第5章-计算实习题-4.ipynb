{
 "cells": [
  {
   "cell_type": "code",
   "execution_count": 1,
   "metadata": {},
   "outputs": [],
   "source": [
    "import scipy.linalg\n",
    "import numpy as np\n"
   ]
  },
  {
   "cell_type": "code",
   "execution_count": 2,
   "metadata": {},
   "outputs": [
    {
     "name": "stdout",
     "output_type": "stream",
     "text": [
      "n = 2, cond_H_n = 27.00000000000001\n",
      "n = 3, cond_H_n = 748.0000000000027\n",
      "n = 4, cond_H_n = 28375.00000000183\n",
      "n = 5, cond_H_n = 943656.0000063627\n",
      "n = 6, cond_H_n = 29070279.00379062\n"
     ]
    }
   ],
   "source": [
    "# (1)\n",
    "\n",
    "for n in range(2, 6+1):\n",
    "    H_n = scipy.linalg.hilbert(n)\n",
    "    H_n_inv = np.linalg.inv(H_n)\n",
    "    H_n_inf_norm = np.linalg.norm(H_n, ord=np.inf)\n",
    "    H_n_inv_inf_norm = np.linalg.norm(H_n_inv, ord=np.inf)\n",
    "    cond_H_n = H_n_inf_norm * H_n_inv_inf_norm\n",
    "    print(f\"n = {n}, cond_H_n = {cond_H_n}\")\n"
   ]
  },
  {
   "cell_type": "markdown",
   "metadata": {},
   "source": [
    "很明显，$H_n$ 的条件数随着 $n$ 的增加而飞速增加。"
   ]
  },
  {
   "cell_type": "code",
   "execution_count": 3,
   "metadata": {},
   "outputs": [],
   "source": [
    "def solve_Gauss(A, b):\n",
    "    \"\"\"Gauss 消去法求解线性方程组\"\"\"\n",
    "    n = len(b)\n",
    "    for i in range(n):\n",
    "        for j in range(i+1, n):\n",
    "            factor = A[j, i] / A[i, i]\n",
    "            A[j, i:] -= factor * A[i, i:]\n",
    "            b[j] -= factor * b[i]\n",
    "    x = np.zeros(n)\n",
    "    for i in range(n-1, -1, -1):\n",
    "        x[i] = (b[i] - A[i, i+1:] @ x[i+1:]) / A[i, i]\n",
    "    return x\n",
    "\n",
    "def solve_Cholesky(A, b):\n",
    "    L = np.linalg.cholesky(A)\n",
    "    y = np.linalg.solve(L, b)\n",
    "    x = np.linalg.solve(L.T, y)\n",
    "    return x\n"
   ]
  },
  {
   "cell_type": "code",
   "execution_count": 4,
   "metadata": {},
   "outputs": [
    {
     "name": "stdout",
     "output_type": "stream",
     "text": [
      "n = 2, ||r_n|| = 0.0, ||delta_x|| = 6.661338147750939e-16, effective_digits = 15\n",
      "n = 3, ||r_n|| = 2.220446049250313e-16, ||delta_x|| = 1.2545520178264269e-14, effective_digits = 13\n",
      "n = 4, ||r_n|| = 1.3877787807814457e-17, ||delta_x|| = 1.2145839889399213e-13, effective_digits = 12\n",
      "n = 5, ||r_n|| = 1.3877787807814457e-17, ||delta_x|| = 2.5912605394751154e-12, effective_digits = 11\n",
      "n = 6, ||r_n|| = 5.551115123125783e-17, ||delta_x|| = 2.3153123862584835e-10, effective_digits = 9\n",
      "n = 7, ||r_n|| = 1.3877787807814457e-17, ||delta_x|| = 6.626366122475247e-09, effective_digits = 8\n",
      "n = 8, ||r_n|| = 1.1102230246251565e-16, ||delta_x|| = 2.9185050987035055e-07, effective_digits = 6\n",
      "n = 9, ||r_n|| = 4.440892098500626e-16, ||delta_x|| = 1.1181189818465498e-07, effective_digits = 6\n",
      "n = 10, ||r_n|| = 1.3877787807814457e-17, ||delta_x|| = 8.984675913259466e-05, effective_digits = 4\n",
      "n = 11, ||r_n|| = 4.440892098500626e-16, ||delta_x|| = 0.0049018373855260755, effective_digits = 2\n",
      "n = 12, ||r_n|| = 4.440892098500626e-16, ||delta_x|| = 0.4243631547042165, effective_digits = 0\n",
      "n = 13, ||r_n|| = 4.440892098500626e-16, ||delta_x|| = 6.50680528268618, effective_digits = -1\n",
      "n = 14, ||r_n|| = 8.881784197001252e-16, ||delta_x|| = 16.687159508067474, effective_digits = -2\n",
      "n = 15, ||r_n|| = 4.440892098500626e-16, ||delta_x|| = 10.338867731118112, effective_digits = -2\n",
      "n = 16, ||r_n|| = 4.440892098500626e-16, ||delta_x|| = 24.63492397833841, effective_digits = -2\n",
      "n = 17, ||r_n|| = 4.440892098500626e-16, ||delta_x|| = 14.186240369022148, effective_digits = -2\n",
      "n = 18, ||r_n|| = 4.440892098500626e-16, ||delta_x|| = 11.029007263911494, effective_digits = -2\n",
      "n = 19, ||r_n|| = 4.440892098500626e-16, ||delta_x|| = 16.96560910408522, effective_digits = -2\n",
      "n = 20, ||r_n|| = 8.881784197001252e-16, ||delta_x|| = 8.038545241011722, effective_digits = -1\n"
     ]
    }
   ],
   "source": [
    "# (2)\n",
    "# 范数都是无穷范数\n",
    "\n",
    "def func(n):\n",
    "    x = np.ones(n)\n",
    "    H_n = scipy.linalg.hilbert(n)\n",
    "    b_n = H_n @ x\n",
    "    x_bar = solve_Gauss(H_n, b_n)\n",
    "    r_n = b_n - H_n @ x_bar\n",
    "    delta_x = x_bar - x\n",
    "    r_n_inf_norm = np.linalg.norm(r_n, ord=np.inf)\n",
    "    delta_x_inf_norm = np.linalg.norm(delta_x, ord=np.inf)\n",
    "    effective_digits = int(np.floor(-np.log10(delta_x_inf_norm)))\n",
    "    print(f\"n = {n}, ||r_n|| = {r_n_inf_norm}, ||delta_x|| = {delta_x_inf_norm}, effective_digits = {effective_digits}\")\n",
    "\n",
    "for n in range(2, 20+1):\n",
    "    func(n)\n"
   ]
  },
  {
   "cell_type": "markdown",
   "metadata": {},
   "source": [
    "当 $n$ 增加时，$\\bar x$ 的有效位数越来越少，有效位数随着条件数的增加而减少。  \n",
    "当 $n = 12$ 时，一位有效数字都没有。"
   ]
  }
 ],
 "metadata": {
  "kernelspec": {
   "display_name": "Python 3",
   "language": "python",
   "name": "python3"
  },
  "language_info": {
   "codemirror_mode": {
    "name": "ipython",
    "version": 3
   },
   "file_extension": ".py",
   "mimetype": "text/x-python",
   "name": "python",
   "nbconvert_exporter": "python",
   "pygments_lexer": "ipython3",
   "version": "3.12.0"
  }
 },
 "nbformat": 4,
 "nbformat_minor": 2
}
