{
 "cells": [
  {
   "cell_type": "code",
   "execution_count": 1,
   "metadata": {},
   "outputs": [],
   "source": [
    "import numpy as np\n"
   ]
  },
  {
   "cell_type": "code",
   "execution_count": 2,
   "metadata": {},
   "outputs": [],
   "source": [
    "# 辛普森法\n",
    "\n",
    "coefficients = np.array([1, 4, 1]) / 6\n",
    "\n",
    "\n",
    "def simpson(f, a, b):\n",
    "    x = np.linspace(a, b, 3)\n",
    "    y = f(x)\n",
    "    return np.dot(coefficients, y) * (b - a)\n"
   ]
  },
  {
   "cell_type": "code",
   "execution_count": 3,
   "metadata": {},
   "outputs": [],
   "source": [
    "# 复合辛普森法\n",
    "\n",
    "def simpson_composite(f, a, b, n):\n",
    "    h = (b - a) / (2 * n)\n",
    "    x = np.linspace(a, b, (2 * n) + 1)\n",
    "    y = f(x)\n",
    "    return h / 3 * (y[0] + 2 * np.sum(y[2:2*n:2]) + 4 * np.sum(y[1:2*n:2]) + y[2*n])\n"
   ]
  },
  {
   "cell_type": "code",
   "execution_count": 4,
   "metadata": {},
   "outputs": [],
   "source": [
    "def f(x):\n",
    "    return x ** -2\n",
    "\n",
    "\n",
    "a, b = 0.2, 1\n"
   ]
  },
  {
   "cell_type": "code",
   "execution_count": 5,
   "metadata": {},
   "outputs": [
    {
     "name": "stdout",
     "output_type": "stream",
     "text": [
      "n=1, integral=4.948148148148147\n",
      "n=2, integral=4.187037037037036\n",
      "n=3, integral=4.024217897035356\n",
      "n=4, integral=4.002164437495856\n",
      "n=5, integral=4.000154360133406\n",
      "n=6, integral=4.000010030505052\n",
      "n=7, integral=4.00000063337464\n",
      "n=8, integral=4.000000039689116\n",
      "n=9, integral=4.000000002482191\n"
     ]
    }
   ],
   "source": [
    "for m in range(1, 9+1):\n",
    "    print(f\"n={m}, integral={simpson_composite(f, a, b, 2 ** (m-1))}\")\n"
   ]
  },
  {
   "cell_type": "code",
   "execution_count": 6,
   "metadata": {},
   "outputs": [
    {
     "name": "stdout",
     "output_type": "stream",
     "text": [
      "integrating from a=0.2 to b=1 with tol=1e-05, whole=4.94815\n",
      "  integrating from a=0.2 to b=0.6 with tol=5e-06, whole=3.51852\n",
      "    integrating from a=0.2 to b=0.4 with tol=2.5e-06, whole=2.52315\n",
      "      integrating from a=0.2 to b=0.3 with tol=1.25e-06, whole=1.66852\n",
      "        integrating from a=0.2 to b=0.25 with tol=6.25e-07, whole=1.0001\n",
      "          integrating from a=0.2 to b=0.225 with tol=3.125e-07, whole=0.55556\n",
      "            integrating from a=0.2 to b=0.2125 with tol=1.5625e-07, whole=0.294118\n",
      "            integrating from a=0.2125 to b=0.225 with tol=1.5625e-07, whole=0.261438\n",
      "          integrating from a=0.225 to b=0.25 with tol=3.125e-07, whole=0.444447\n",
      "            integrating from a=0.225 to b=0.2375 with tol=1.5625e-07, whole=0.233918\n",
      "            integrating from a=0.2375 to b=0.25 with tol=1.5625e-07, whole=0.210526\n",
      "        integrating from a=0.25 to b=0.3 with tol=6.25e-07, whole=0.666697\n",
      "          integrating from a=0.25 to b=0.275 with tol=3.125e-07, whole=0.363638\n",
      "            integrating from a=0.25 to b=0.2625 with tol=1.5625e-07, whole=0.190476\n",
      "            integrating from a=0.2625 to b=0.275 with tol=1.5625e-07, whole=0.17316\n",
      "          integrating from a=0.275 to b=0.3 with tol=3.125e-07, whole=0.303031\n",
      "            integrating from a=0.275 to b=0.2875 with tol=1.5625e-07, whole=0.158103\n",
      "            integrating from a=0.2875 to b=0.3 with tol=1.5625e-07, whole=0.144928\n",
      "      integrating from a=0.3 to b=0.4 with tol=1.25e-06, whole=0.83357\n",
      "        integrating from a=0.3 to b=0.35 with tol=6.25e-07, whole=0.476202\n",
      "          integrating from a=0.3 to b=0.325 with tol=3.125e-07, whole=0.256411\n",
      "            integrating from a=0.3 to b=0.3125 with tol=1.5625e-07, whole=0.133333\n",
      "            integrating from a=0.3125 to b=0.325 with tol=1.5625e-07, whole=0.123077\n",
      "          integrating from a=0.325 to b=0.35 with tol=3.125e-07, whole=0.21978\n",
      "        integrating from a=0.35 to b=0.4 with tol=6.25e-07, whole=0.357148\n",
      "          integrating from a=0.35 to b=0.375 with tol=3.125e-07, whole=0.190476\n",
      "          integrating from a=0.375 to b=0.4 with tol=3.125e-07, whole=0.166667\n",
      "    integrating from a=0.4 to b=0.6 with tol=2.5e-06, whole=0.834259\n",
      "      integrating from a=0.4 to b=0.5 with tol=1.25e-06, whole=0.500051\n",
      "        integrating from a=0.4 to b=0.45 with tol=6.25e-07, whole=0.27778\n",
      "          integrating from a=0.4 to b=0.425 with tol=3.125e-07, whole=0.147059\n",
      "          integrating from a=0.425 to b=0.45 with tol=3.125e-07, whole=0.130719\n",
      "        integrating from a=0.45 to b=0.5 with tol=6.25e-07, whole=0.222223\n",
      "          integrating from a=0.45 to b=0.475 with tol=3.125e-07, whole=0.116959\n",
      "          integrating from a=0.475 to b=0.5 with tol=3.125e-07, whole=0.105263\n",
      "      integrating from a=0.5 to b=0.6 with tol=1.25e-06, whole=0.333349\n",
      "        integrating from a=0.5 to b=0.55 with tol=6.25e-07, whole=0.181819\n",
      "        integrating from a=0.55 to b=0.6 with tol=6.25e-07, whole=0.151516\n",
      "  integrating from a=0.6 to b=1 with tol=5e-06, whole=0.668519\n",
      "    integrating from a=0.6 to b=0.8 with tol=2.5e-06, whole=0.416785\n",
      "      integrating from a=0.6 to b=0.7 with tol=1.25e-06, whole=0.238101\n",
      "        integrating from a=0.6 to b=0.65 with tol=6.25e-07, whole=0.128205\n",
      "        integrating from a=0.65 to b=0.7 with tol=6.25e-07, whole=0.10989\n",
      "      integrating from a=0.7 to b=0.8 with tol=1.25e-06, whole=0.178574\n",
      "        integrating from a=0.7 to b=0.75 with tol=6.25e-07, whole=0.0952382\n",
      "        integrating from a=0.75 to b=0.8 with tol=6.25e-07, whole=0.0833334\n",
      "    integrating from a=0.8 to b=1 with tol=2.5e-06, whole=0.250026\n",
      "      integrating from a=0.8 to b=0.9 with tol=1.25e-06, whole=0.13889\n",
      "      integrating from a=0.9 to b=1 with tol=1.25e-06, whole=0.111112\n",
      "adaptive simpson result=4.000000002392094\n"
     ]
    }
   ],
   "source": [
    "# 自适应辛普森法\n",
    "\n",
    "def adaptive_simpson(f, a, b, tol):\n",
    "    def asr(f, a, b, tol, whole, depth):\n",
    "        print(f\"{\" \" * depth * 2}integrating from a={a:g} to b={b:g} with tol={tol:g}, whole={whole:g}\")\n",
    "        c = (a + b) / 2\n",
    "        left = simpson(f, a, c)\n",
    "        right = simpson(f, c, b)\n",
    "        if abs(left + right - whole) <= tol:\n",
    "            return left + right + (left + right - whole) / 15\n",
    "        return asr(f, a, c, tol / 2, left, depth+1) + asr(f, c, b, tol / 2, right, depth+1)\n",
    "\n",
    "    return asr(f, a, b, tol, simpson(f, a, b), 0)\n",
    "\n",
    "\n",
    "result = adaptive_simpson(f, a, b, 0.00001)\n",
    "print(f\"adaptive simpson result={result}\")\n"
   ]
  }
 ],
 "metadata": {
  "kernelspec": {
   "display_name": "Python 3",
   "language": "python",
   "name": "python3"
  },
  "language_info": {
   "codemirror_mode": {
    "name": "ipython",
    "version": 3
   },
   "file_extension": ".py",
   "mimetype": "text/x-python",
   "name": "python",
   "nbconvert_exporter": "python",
   "pygments_lexer": "ipython3",
   "version": "3.12.0"
  }
 },
 "nbformat": 4,
 "nbformat_minor": 2
}
