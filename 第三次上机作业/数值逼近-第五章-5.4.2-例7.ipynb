{
 "cells": [
  {
   "cell_type": "markdown",
   "metadata": {},
   "source": [
    "书上的结论错了（？\n",
    "我用 `sympy` 算出来 `I = 4 * log(2) - 2 = 0.77258872...`，数值积分结果也接近这个值。"
   ]
  },
  {
   "cell_type": "code",
   "execution_count": 1,
   "metadata": {},
   "outputs": [],
   "source": [
    "import numpy as np\n"
   ]
  },
  {
   "cell_type": "code",
   "execution_count": 2,
   "metadata": {},
   "outputs": [],
   "source": [
    "# 辛普森法\n",
    "\n",
    "coefficients = np.array([1, 4, 1]) / 6\n",
    "\n",
    "\n",
    "def simpson(f, a, b):\n",
    "    x = np.linspace(a, b, 3)\n",
    "    y = f(x)\n",
    "    return np.dot(coefficients, y) * (b - a)\n"
   ]
  },
  {
   "cell_type": "code",
   "execution_count": 3,
   "metadata": {},
   "outputs": [],
   "source": [
    "# 复合辛普森法\n",
    "\n",
    "def simpson_composite(f, a, b, n):\n",
    "    h = (b - a) / (2 * n)\n",
    "    x = np.linspace(a, b, (2 * n) + 1)\n",
    "    y = f(x)\n",
    "    return h / 3 * (y[0] + 2 * np.sum(y[2:2*n:2]) + 4 * np.sum(y[1:2*n:2]) + y[2*n])\n"
   ]
  },
  {
   "cell_type": "code",
   "execution_count": 4,
   "metadata": {},
   "outputs": [],
   "source": [
    "def f(x):\n",
    "    return 1 / (x ** (1/2) + x ** (1/4))\n",
    "\n",
    "\n",
    "def g(t):\n",
    "    return 4 * t ** 2 / (1 + t)\n"
   ]
  },
  {
   "cell_type": "code",
   "execution_count": 5,
   "metadata": {},
   "outputs": [
    {
     "name": "stdout",
     "output_type": "stream",
     "text": [
      "m = 1, I = 0.7730158730158729, Im = 0.4620439032598826\n",
      "m = 2, I = 0.7726181226181226, Im = 0.5776300092585305\n",
      "m = 3, I = 0.7725906112776761, Im = 0.6509065416344548\n",
      "m = 4, I = 0.7725888411592916, Im = 0.6970581479935529\n",
      "m = 5, I = 0.7725887296858193, Im = 0.7259452323716195\n",
      "m = 6, I = 0.7725887227053715, Im = 0.7439198224783009\n",
      "m = 7, I = 0.7725887222688839, Im = 0.7550429936867659\n",
      "m = 8, I = 0.7725887222416001, Im = 0.7618917314044691\n",
      "The true value of the integral is 4 * log(2) - 2 = 0.7725887222397811.\n"
     ]
    }
   ],
   "source": [
    "for m in range(1, 8+1):\n",
    "    I = simpson_composite(g, 0, 1, 2 ** m)\n",
    "    Im = simpson_composite(f, 2 ** -(m+1), 1, 2 ** m)\n",
    "    print(f\"m = {m}, I = {I:.16f}, Im = {Im:.16f}\")\n",
    "print(f\"The true value of the integral is 4 * log(2) - 2 = {4 * np.log(2) - 2}.\")\n"
   ]
  }
 ],
 "metadata": {
  "kernelspec": {
   "display_name": "Python 3",
   "language": "python",
   "name": "python3"
  },
  "language_info": {
   "codemirror_mode": {
    "name": "ipython",
    "version": 3
   },
   "file_extension": ".py",
   "mimetype": "text/x-python",
   "name": "python",
   "nbconvert_exporter": "python",
   "pygments_lexer": "ipython3",
   "version": "3.12.0"
  }
 },
 "nbformat": 4,
 "nbformat_minor": 2
}
