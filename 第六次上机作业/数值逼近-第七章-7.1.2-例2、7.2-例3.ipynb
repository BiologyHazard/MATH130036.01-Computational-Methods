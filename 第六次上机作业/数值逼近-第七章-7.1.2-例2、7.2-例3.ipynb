{
 "cells": [
  {
   "cell_type": "code",
   "execution_count": 1,
   "metadata": {},
   "outputs": [
    {
     "name": "stdout",
     "output_type": "stream",
     "text": [
      "k=1, a=1, f(a)=0.27200000000000024, b=1.3, f(b)=-0.030999999999999694, x=1.2693069306930695, f(x)=-0.02950337813900994\n",
      "k=2, a=1, f(a)=0.27200000000000024, b=1.2693069306930695, f(b)=-0.02950337813900994, x=1.2429541108316933, f(x)=-0.02248734234678551\n"
     ]
    }
   ],
   "source": [
    "# 7.1.2 例2\n",
    "\n",
    "def f(x):\n",
    "    return x**3 - 5 * x + 4.272\n",
    "\n",
    "\n",
    "def solve(f, a, b, n):\n",
    "    for k in range(n):\n",
    "        fa = f(a)\n",
    "        fb = f(b)\n",
    "        x = (a * fb - b * fa) / (fb - fa)\n",
    "        fx = f(x)\n",
    "        print(f'k={k+1}, a={a}, f(a)={fa}, b={b}, f(b)={fb}, x={x}, f(x)={fx}')\n",
    "        if fx * fa >= 0:\n",
    "            a = x\n",
    "        else:\n",
    "            b = x\n",
    "\n",
    "\n",
    "solve(f, 1, 1.3, 2)\n"
   ]
  },
  {
   "cell_type": "markdown",
   "metadata": {},
   "source": [
    "7.1.2 例2\n",
    "\n",
    "书上的 $x_1$ 多打了一个 9，实际上 $x_1=1.2693069306930695$"
   ]
  },
  {
   "cell_type": "code",
   "execution_count": 2,
   "metadata": {},
   "outputs": [
    {
     "name": "stdout",
     "output_type": "stream",
     "text": [
      "k=1, x=0.6065306597126334\n",
      "k=2, x=0.545239211892605\n",
      "k=3, x=0.5797030948780683\n",
      "k=4, x=0.5600646279389019\n",
      "k=5, x=0.5711721489772151\n",
      "k=6, x=0.5648629469803235\n",
      "k=7, x=0.5684380475700662\n",
      "k=8, x=0.5664094527469208\n",
      "k=9, x=0.5675596342622424\n",
      "k=10, x=0.5669072129354714\n",
      "k=11, x=0.5672771959707785\n",
      "k=12, x=0.5670673518537281\n",
      "k=13, x=0.5671863600876381\n",
      "k=14, x=0.5671188642569858\n"
     ]
    }
   ],
   "source": [
    "# 7.2 例3\n",
    "\n",
    "from math import exp\n",
    "\n",
    "\n",
    "def f(x):\n",
    "    return exp(-x)\n",
    "\n",
    "\n",
    "x = 0.5\n",
    "for k in range(14):\n",
    "    x = f(x)\n",
    "    print(f'k={k+1}, x={x}')\n"
   ]
  }
 ],
 "metadata": {
  "kernelspec": {
   "display_name": "Python 3",
   "language": "python",
   "name": "python3"
  },
  "language_info": {
   "codemirror_mode": {
    "name": "ipython",
    "version": 3
   },
   "file_extension": ".py",
   "mimetype": "text/x-python",
   "name": "python",
   "nbconvert_exporter": "python",
   "pygments_lexer": "ipython3",
   "version": "3.12.0"
  }
 },
 "nbformat": 4,
 "nbformat_minor": 2
}
