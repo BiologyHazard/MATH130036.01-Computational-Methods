{
 "cells": [
  {
   "cell_type": "code",
   "execution_count": 1,
   "metadata": {},
   "outputs": [],
   "source": [
    "import numpy as np\n",
    "from numpy import cos, exp, pi, sin, sqrt\n"
   ]
  },
  {
   "cell_type": "markdown",
   "metadata": {},
   "source": [
    "用不动点迭代法\n",
    "\n",
    "<!-- x1_new = 1/3 * (cos(x2*x3) + 0.5)\n",
    "x2_new = -0.1 +- 1/9 * sqrt(x1**2 + sin(x3) + 1.06)\n",
    "x3_new = 1/20 * (1 - 10/3*pi - exp(-x1*x2)) -->\n",
    "\n",
    "若 $x_2 \\ge -0.1$, 采用\n",
    "$$\n",
    "    \\left\\{\n",
    "    \\begin{align*}\n",
    "        x_1 &= \\dfrac{1}{3} \\left( \\cos(x_2 x_3) + 0.5 \\right) \\\\\n",
    "        x_2 &= -0.1 + \\dfrac{1}{9} \\sqrt{x_1^2 + \\sin(x_3) + 1.06} \\\\\n",
    "        x_3 &= \\dfrac{1}{20} \\left( 1 - \\dfrac{10}{3} \\pi - e^{-x_1 x_2} \\right)\n",
    "    \\end{align*}\n",
    "    \\right.\n",
    "$$\n",
    "\n",
    "若 $x_2 \\le -0.1$, 采用\n",
    "$$\n",
    "    \\left\\{\n",
    "    \\begin{align*}\n",
    "        x_1 &= \\dfrac{1}{3} \\left( \\cos(x_2 x_3) + 0.5 \\right) \\\\\n",
    "        x_2 &= -0.1 - \\dfrac{1}{9} \\sqrt{x_1^2 + \\sin(x_3) + 1.06} \\\\\n",
    "        x_3 &= \\dfrac{1}{20} \\left( 1 - \\dfrac{10}{3} \\pi - e^{-x_1 x_2} \\right)\n",
    "    \\end{align*}\n",
    "    \\right.\n",
    "$$\n",
    "\n",
    "这两个迭代公式都是 $[-1, 1]^3$ 上的压缩映射，因此都是收敛的。"
   ]
  },
  {
   "cell_type": "code",
   "execution_count": 2,
   "metadata": {},
   "outputs": [],
   "source": [
    "def f0(x):\n",
    "    # 假设 x2 >= -0.1\n",
    "    x1, x2, x3 = x\n",
    "    x1_new = 1/3 * (cos(x2*x3) + 0.5)\n",
    "    x2_new = -0.1 + 1/9 * sqrt(x1**2 + sin(x3) + 1.06)\n",
    "    x3_new = 1/20 * (1 - 10/3*pi - exp(-x1*x2))\n",
    "    return np.array([x1_new, x2_new, x3_new])\n",
    "\n",
    "\n",
    "def f1(x):\n",
    "    # 假设 x2 <= -0.1\n",
    "    x1, x2, x3 = x\n",
    "    x1_new = 1/3 * (cos(x2*x3) + 0.5)\n",
    "    x2_new = -0.1 - 1/9 * sqrt(x1**2 + sin(x3) + 1.06)\n",
    "    x3_new = 1/20 * (1 - 10/3*pi - exp(-x1*x2))\n",
    "    return np.array([x1_new, x2_new, x3_new])\n",
    "\n",
    "\n",
    "def solve(f, x, tol):\n",
    "    x = np.array(x)\n",
    "    while True:\n",
    "        x_new = f(x)\n",
    "        if np.linalg.norm(x_new - x) < tol:\n",
    "            return x_new\n",
    "        x = x_new\n"
   ]
  },
  {
   "cell_type": "code",
   "execution_count": 3,
   "metadata": {},
   "outputs": [
    {
     "name": "stdout",
     "output_type": "stream",
     "text": [
      "x1 = 0.500000, x2 = 0.000000, x3 = -0.523599\n",
      "x1 = 0.498145, x2 = -0.199606, x3 = -0.528826\n"
     ]
    }
   ],
   "source": [
    "x1, x2, x3 = solve(f0, (0, 0, 0), 1e-8)\n",
    "print(f\"x1 = {x1:.6f}, x2 = {x2:.6f}, x3 = {x3:.6f}\")\n",
    "x1, x2, x3 = solve(f1, (0, 0, 0), 1e-8)\n",
    "print(f\"x1 = {x1:.6f}, x2 = {x2:.6f}, x3 = {x3:.6f}\")\n"
   ]
  },
  {
   "cell_type": "markdown",
   "metadata": {},
   "source": [
    "用牛顿法，Jacobi 矩阵是手动求的，并非数值微分。"
   ]
  },
  {
   "cell_type": "code",
   "execution_count": 4,
   "metadata": {},
   "outputs": [
    {
     "name": "stdout",
     "output_type": "stream",
     "text": [
      "初值为 (0, 0, 0) 时：\n",
      "x1 = 0.500000, x2 = -0.000000, x3 = -0.523599\n",
      "初值为 (6, -6, 10) 时：\n",
      "x1 = 0.498145, x2 = -0.199606, x3 = -0.528826\n",
      "初值为 (-6, 6, -10) 时：\n",
      "x1 = 0.498145, x2 = -0.199606, x3 = -0.528826\n"
     ]
    }
   ],
   "source": [
    "def f(x):\n",
    "    x1, x2, x3 = x\n",
    "    return np.array([\n",
    "        3*x1 - cos(x2*x3) - 1/2,\n",
    "        x1**2 - 81*(x2+0.1)**2 + sin(x3) + 1.06,\n",
    "        exp(-x1*x2) + 20*x3 + 10/3*pi - 1,\n",
    "    ])\n",
    "\n",
    "\n",
    "def jacobian(x):\n",
    "    x1, x2, x3 = x\n",
    "    return np.array([\n",
    "        [3, x3*sin(x2*x3), x2*sin(x2*x3)],\n",
    "        [2*x1, -162*(x2+0.1), cos(x3)],\n",
    "        [-x2*exp(-x1*x2), -x1*exp(-x1*x2), 20],\n",
    "    ])\n",
    "\n",
    "\n",
    "def solve(f, jacobian, x, tol):\n",
    "    x = np.array(x)\n",
    "    while True:\n",
    "        delta_x = np.linalg.solve(jacobian(x), -f(x))\n",
    "        x = x + delta_x\n",
    "        x1, x2, x3 = x\n",
    "        if np.linalg.norm(delta_x) < tol:\n",
    "            return x1, x2, x3\n",
    "\n",
    "\n",
    "x1, x2, x3 = solve(f, jacobian, (0, 0, 0), 1e-8)\n",
    "print(f\"初值为 (0, 0, 0) 时：\")\n",
    "print(f\"x1 = {x1:.6f}, x2 = {x2:.6f}, x3 = {x3:.6f}\")\n",
    "x1, x2, x3 = solve(f, jacobian, (6, -6, 10), 1e-8)\n",
    "print(f\"初值为 (6, -6, 10) 时：\")\n",
    "print(f\"x1 = {x1:.6f}, x2 = {x2:.6f}, x3 = {x3:.6f}\")\n",
    "x1, x2, x3 = solve(f, jacobian, (-6, 6, -10), 1e-8)\n",
    "print(f\"初值为 (-6, 6, -10) 时：\")\n",
    "print(f\"x1 = {x1:.6f}, x2 = {x2:.6f}, x3 = {x3:.6f}\")\n"
   ]
  }
 ],
 "metadata": {
  "kernelspec": {
   "display_name": "Python 3",
   "language": "python",
   "name": "python3"
  },
  "language_info": {
   "codemirror_mode": {
    "name": "ipython",
    "version": 3
   },
   "file_extension": ".py",
   "mimetype": "text/x-python",
   "name": "python",
   "nbconvert_exporter": "python",
   "pygments_lexer": "ipython3",
   "version": "3.12.0"
  }
 },
 "nbformat": 4,
 "nbformat_minor": 2
}
