{
 "cells": [
  {
   "cell_type": "code",
   "execution_count": 1,
   "metadata": {},
   "outputs": [],
   "source": [
    "import numpy as np\n"
   ]
  },
  {
   "cell_type": "code",
   "execution_count": 2,
   "metadata": {},
   "outputs": [],
   "source": [
    "# 辛普森法\n",
    "\n",
    "coefficients = np.array([1, 4, 1]) / 6\n",
    "\n",
    "\n",
    "def simpson(f, a, b):\n",
    "    x = np.linspace(a, b, 3)\n",
    "    y = f(x)\n",
    "    return np.dot(coefficients, y) * (b - a)\n"
   ]
  },
  {
   "cell_type": "code",
   "execution_count": 3,
   "metadata": {},
   "outputs": [],
   "source": [
    "def f(x):\n",
    "    return x ** -2\n",
    "\n",
    "\n",
    "a, b = 0.2, 1\n"
   ]
  },
  {
   "cell_type": "code",
   "execution_count": 4,
   "metadata": {},
   "outputs": [
    {
     "name": "stdout",
     "output_type": "stream",
     "text": [
      "n=1, integral=4.948148148148148\n",
      "n=2, integral=4.187037037037037\n",
      "n=3, integral=4.024217897035356\n",
      "n=4, integral=4.002164437495856\n",
      "n=5, integral=4.000154360133406\n"
     ]
    }
   ],
   "source": [
    "# 复合辛普森法\n",
    "\n",
    "\n",
    "S = [0]\n",
    "for n in range(1, 5+1):\n",
    "    parts = 2 ** (n - 1)\n",
    "    h = (b - a) / parts\n",
    "    integral = 0\n",
    "    for i in range(parts):\n",
    "        ai = a + i * h\n",
    "        bi = a + (i + 1) * h\n",
    "        integral += simpson(f, ai, bi)\n",
    "    S.append(integral)\n",
    "    print(f\"n={n}, integral={integral}\")\n",
    "S = np.array(S)\n"
   ]
  },
  {
   "cell_type": "code",
   "execution_count": 5,
   "metadata": {},
   "outputs": [
    {
     "data": {
      "text/plain": [
       "np.float64(4.000020354975909)"
      ]
     },
     "execution_count": 5,
     "metadata": {},
     "output_type": "execute_result"
    }
   ],
   "source": [
    "RS = S[5] + (S[5] - S[4]) / (2 ** 4 - 1)\n",
    "RS\n"
   ]
  },
  {
   "cell_type": "code",
   "execution_count": 6,
   "metadata": {},
   "outputs": [
    {
     "name": "stdout",
     "output_type": "stream",
     "text": [
      "integrating from a=0.2 to b=1 with tol=0.02, whole=4.94815\n",
      "integrating from a=0.2 to b=0.6 with tol=0.01, whole=3.51852\n",
      "integrating from a=0.2 to b=0.4 with tol=0.005, whole=2.52315\n",
      "integrating from a=0.2 to b=0.3 with tol=0.0025, whole=1.66852\n",
      "integrating from a=0.3 to b=0.4 with tol=0.0025, whole=0.83357\n",
      "integrating from a=0.4 to b=0.6 with tol=0.005, whole=0.834259\n",
      "integrating from a=0.6 to b=1 with tol=0.01, whole=0.668519\n"
     ]
    },
    {
     "data": {
      "text/plain": [
       "np.float64(4.0000595715962755)"
      ]
     },
     "execution_count": 6,
     "metadata": {},
     "output_type": "execute_result"
    }
   ],
   "source": [
    "# 自适应辛普森法\n",
    "\n",
    "def adaptive_simpson(f, a, b, tol):\n",
    "    def asr(f, a, b, tol, whole):\n",
    "        print(f\"integrating from a={a:g} to b={b:g} with tol={tol:g}, whole={whole:g}\")\n",
    "        c = (a + b) / 2\n",
    "        left = simpson(f, a, c)\n",
    "        right = simpson(f, c, b)\n",
    "        if abs(left + right - whole) <= tol:\n",
    "            return left + right + (left + right - whole) / 15\n",
    "        return asr(f, a, c, tol / 2, left) + asr(f, c, b, tol / 2, right)\n",
    "\n",
    "    return asr(f, a, b, tol, simpson(f, a, b))\n",
    "\n",
    "\n",
    "adaptive_simpson(f, a, b, 0.02)\n"
   ]
  }
 ],
 "metadata": {
  "kernelspec": {
   "display_name": "Python 3",
   "language": "python",
   "name": "python3"
  },
  "language_info": {
   "codemirror_mode": {
    "name": "ipython",
    "version": 3
   },
   "file_extension": ".py",
   "mimetype": "text/x-python",
   "name": "python",
   "nbconvert_exporter": "python",
   "pygments_lexer": "ipython3",
   "version": "3.12.0"
  }
 },
 "nbformat": 4,
 "nbformat_minor": 2
}
